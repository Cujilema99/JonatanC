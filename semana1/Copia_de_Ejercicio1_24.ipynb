{
  "cells": [
    {
      "cell_type": "markdown",
      "metadata": {
        "id": "view-in-github",
        "colab_type": "text"
      },
      "source": [
        "<a href=\"https://colab.research.google.com/github/Cujilema99/JonatanC/blob/main/semana1/Copia_de_Ejercicio1_24.ipynb\" target=\"_parent\"><img src=\"https://colab.research.google.com/assets/colab-badge.svg\" alt=\"Open In Colab\"/></a>"
      ]
    },
    {
      "cell_type": "markdown",
      "id": "6bae65f4",
      "metadata": {
        "id": "6bae65f4"
      },
      "source": [
        "# Taller básico pandas - numpy"
      ]
    },
    {
      "cell_type": "code",
      "execution_count": 12,
      "id": "bc1e240c",
      "metadata": {
        "id": "bc1e240c"
      },
      "outputs": [],
      "source": [
        "import pandas as pd\n",
        "import numpy as np"
      ]
    },
    {
      "cell_type": "code",
      "execution_count": 5,
      "id": "fe3e3cc4",
      "metadata": {
        "id": "fe3e3cc4",
        "colab": {
          "base_uri": "https://localhost:8080/"
        },
        "outputId": "7640bb4d-f350-432e-9577-5e387396ca92"
      },
      "outputs": [
        {
          "output_type": "stream",
          "name": "stdout",
          "text": [
            "   Canción                  Artista  Duración (segundos)\n",
            "0    Hawái                   Maluma                  198\n",
            "1  Bichota                  Karol G                  209\n",
            "2     Tusa  Karol G ft. Nicki Minaj                  214\n"
          ]
        }
      ],
      "source": [
        "# Crear un dataframe que tenga 3 registros(filas) cada una debe contener el nombre de una cancion, el artista que la canta, y la duracion en segundos con panda\n",
        "data = {\n",
        "    'Canción': ['Hawái', 'Bichota', 'Tusa'],\n",
        "    'Artista': ['Maluma', 'Karol G', 'Karol G ft. Nicki Minaj'],\n",
        "    'Duración (segundos)': [198, 209, 214]\n",
        "}\n",
        "\n",
        "\n",
        "Musica = pd.DataFrame(data)\n",
        "\n",
        "\n",
        "print(Musica)\n"
      ]
    },
    {
      "cell_type": "code",
      "execution_count": 6,
      "id": "38d4ed46",
      "metadata": {
        "id": "38d4ed46",
        "colab": {
          "base_uri": "https://localhost:8080/"
        },
        "outputId": "0bd30af0-7c1c-47b1-9be6-370010036137"
      },
      "outputs": [
        {
          "output_type": "stream",
          "name": "stdout",
          "text": [
            "Últimas filas del DataFrame:\n",
            "   Canción                  Artista  Duración (segundos)\n",
            "0    Hawái                   Maluma                  198\n",
            "1  Bichota                  Karol G                  209\n",
            "2     Tusa  Karol G ft. Nicki Minaj                  214\n",
            "\n",
            "Últimas 2 filas del DataFrame:\n",
            "   Canción                  Artista  Duración (segundos)\n",
            "1  Bichota                  Karol G                  209\n",
            "2     Tusa  Karol G ft. Nicki Minaj                  214\n"
          ]
        }
      ],
      "source": [
        "# Imprimir la cola del dataframe\n",
        "print(\"Últimas filas del DataFrame:\")\n",
        "print(Musica.tail())\n",
        "print(\"\\nÚltimas 2 filas del DataFrame:\")\n",
        "print(Musica.tail(2))"
      ]
    },
    {
      "cell_type": "code",
      "execution_count": 7,
      "id": "79ccb7d9",
      "metadata": {
        "id": "79ccb7d9",
        "colab": {
          "base_uri": "https://localhost:8080/"
        },
        "outputId": "d07f4f34-7524-4c26-ca59-6a9064508a6b"
      },
      "outputs": [
        {
          "output_type": "stream",
          "name": "stdout",
          "text": [
            "Columna 'Duración (segundos)' utilizando corchetes:\n",
            "0    198\n",
            "1    209\n",
            "2    214\n",
            "Name: Duración (segundos), dtype: int64\n"
          ]
        }
      ],
      "source": [
        "# Acceder a la columna duracion\n",
        "duraciones = Musica['Duración (segundos)']\n",
        "print(\"Columna 'Duración (segundos)' utilizando corchetes:\")\n",
        "print(duraciones)"
      ]
    },
    {
      "cell_type": "code",
      "execution_count": 8,
      "id": "0a3732eb",
      "metadata": {
        "id": "0a3732eb",
        "colab": {
          "base_uri": "https://localhost:8080/"
        },
        "outputId": "b68b08ab-7c7a-4caf-8bf6-bd779489168a"
      },
      "outputs": [
        {
          "output_type": "stream",
          "name": "stdout",
          "text": [
            "Promedio de las duraciones: 207.00 segundos\n"
          ]
        }
      ],
      "source": [
        "# Calcular el promedio de las duraciones\n",
        "promedio_duracion = duraciones.mean()\n",
        "print(f\"Promedio de las duraciones: {promedio_duracion:.2f} segundos\")"
      ]
    },
    {
      "cell_type": "code",
      "execution_count": 9,
      "id": "bf77fe95",
      "metadata": {
        "id": "bf77fe95",
        "colab": {
          "base_uri": "https://localhost:8080/"
        },
        "outputId": "ca6a37f4-a4b8-46b7-fee1-8c4d6cb097a7"
      },
      "outputs": [
        {
          "output_type": "stream",
          "name": "stdout",
          "text": [
            "Canciones con duración mayor que el promedio:\n",
            "['Bichota', 'Tusa']\n"
          ]
        }
      ],
      "source": [
        "# Obtener los nombres de las canciones que tengan duracion mayor que el promedio\n",
        "canciones_mayores_promedio = Musica[Musica['Duración (segundos)'] > promedio_duracion]\n",
        "nombres_canciones = canciones_mayores_promedio['Canción']\n",
        "print(\"Canciones con duración mayor que el promedio:\")\n",
        "print(nombres_canciones.to_list())"
      ]
    },
    {
      "cell_type": "code",
      "execution_count": 11,
      "id": "c4998539",
      "metadata": {
        "id": "c4998539",
        "colab": {
          "base_uri": "https://localhost:8080/"
        },
        "outputId": "afa97154-7b5f-4594-e2fa-28f86d6a719f"
      },
      "outputs": [
        {
          "output_type": "stream",
          "name": "stdout",
          "text": [
            "   Canción                  Artista  Duración (segundos)  Mayor que 3 minutos\n",
            "0    Hawái                   Maluma                  198                 True\n",
            "1  Bichota                  Karol G                  209                 True\n",
            "2     Tusa  Karol G ft. Nicki Minaj                  214                 True\n"
          ]
        }
      ],
      "source": [
        "# Agregar una columna al dataframe que contenga True si la duracion es mayor que 3 minutos\n",
        "# y false si es menor\n",
        "umbral_segundos = 180\n",
        "Musica['Mayor que 3 minutos'] = df['Duración (segundos)'] > umbral_segundos\n",
        "print(Musica)"
      ]
    },
    {
      "cell_type": "code",
      "execution_count": 14,
      "id": "baa74c25",
      "metadata": {
        "id": "baa74c25",
        "colab": {
          "base_uri": "https://localhost:8080/"
        },
        "outputId": "cbeee681-a812-4c82-e56a-1684cfe15128"
      },
      "outputs": [
        {
          "output_type": "stream",
          "name": "stdout",
          "text": [
            "Arreglo numpy:\n",
            "[['Hawái' 'Maluma' 198 True]\n",
            " ['Bichota' 'Karol G' 209 True]\n",
            " ['Tusa' 'Karol G ft. Nicki Minaj' 214 True]]\n"
          ]
        }
      ],
      "source": [
        "# Convertir el dataframe a numpy array\n",
        "array_np = Musica.to_numpy()\n",
        "print(\"Arreglo numpy:\")\n",
        "print(array_np)"
      ]
    },
    {
      "cell_type": "code",
      "execution_count": 15,
      "id": "77697675",
      "metadata": {
        "id": "77697675",
        "colab": {
          "base_uri": "https://localhost:8080/"
        },
        "outputId": "8734f717-41cf-4cb2-b266-cb3670dd27a8"
      },
      "outputs": [
        {
          "output_type": "stream",
          "name": "stdout",
          "text": [
            "Forma del arreglo numpy:\n",
            "(3, 4)\n"
          ]
        }
      ],
      "source": [
        "# Imprimir el shape del array\n",
        "data = {\n",
        "    'Canción': ['Hawái', 'Bichota', 'Tusa'],\n",
        "    'Artista': ['Maluma', 'Karol G', 'Karol G ft. Nicki Minaj'],\n",
        "    'Duración (segundos)': [198, 209, 214],\n",
        "    'Mayor que 3 minutos': [True, True, True]  # Esta columna se ha añadido en el paso anterior\n",
        "}\n",
        "df = pd.DataFrame(data)\n",
        "array_np = df.to_numpy()\n",
        "shape_array = array_np.shape\n",
        "print(\"Forma del arreglo numpy:\")\n",
        "print(shape_array)\n",
        "\n"
      ]
    },
    {
      "cell_type": "code",
      "execution_count": 16,
      "id": "3caa5fa1",
      "metadata": {
        "id": "3caa5fa1",
        "colab": {
          "base_uri": "https://localhost:8080/"
        },
        "outputId": "c08668c3-ad25-44c9-cd23-b58cf31794d8"
      },
      "outputs": [
        {
          "output_type": "stream",
          "name": "stdout",
          "text": [
            "\n",
            "Arreglo numpy después del reshape:\n",
            "['Hawái' 'Maluma' 198 True 'Bichota' 'Karol G' 209 True 'Tusa'\n",
            " 'Karol G ft. Nicki Minaj' 214 True]\n",
            "\n",
            "Forma después del reshape:\n",
            "(12,)\n"
          ]
        }
      ],
      "source": [
        "# Hacer un reshape para convertir el arreglo de 3x4 a un arreglo de 12 elementos\n",
        "array_reshaped = array_np.reshape(-1)\n",
        "\n",
        "\n",
        "print(\"\\nArreglo numpy después del reshape:\")\n",
        "print(array_reshaped)\n",
        "print(\"\\nForma después del reshape:\")\n",
        "print(array_reshaped.shape)"
      ]
    }
  ],
  "metadata": {
    "kernelspec": {
      "display_name": "entornomp",
      "language": "python",
      "name": "entornomp"
    },
    "language_info": {
      "codemirror_mode": {
        "name": "ipython",
        "version": 3
      },
      "file_extension": ".py",
      "mimetype": "text/x-python",
      "name": "python",
      "nbconvert_exporter": "python",
      "pygments_lexer": "ipython3",
      "version": "3.7.10"
    },
    "colab": {
      "provenance": [],
      "include_colab_link": true
    }
  },
  "nbformat": 4,
  "nbformat_minor": 5
}