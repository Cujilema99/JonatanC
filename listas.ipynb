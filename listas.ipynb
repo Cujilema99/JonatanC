{
  "nbformat": 4,
  "nbformat_minor": 0,
  "metadata": {
    "colab": {
      "provenance": [],
      "authorship_tag": "ABX9TyNGOLgvgmSWt0qN8N0uXzY4",
      "include_colab_link": true
    },
    "kernelspec": {
      "name": "python3",
      "display_name": "Python 3"
    },
    "language_info": {
      "name": "python"
    }
  },
  "cells": [
    {
      "cell_type": "markdown",
      "metadata": {
        "id": "view-in-github",
        "colab_type": "text"
      },
      "source": [
        "<a href=\"https://colab.research.google.com/github/Cujilema99/JonatanC/blob/main/listas.ipynb\" target=\"_parent\"><img src=\"https://colab.research.google.com/assets/colab-badge.svg\" alt=\"Open In Colab\"/></a>"
      ]
    },
    {
      "cell_type": "code",
      "execution_count": 1,
      "metadata": {
        "colab": {
          "base_uri": "https://localhost:8080/"
        },
        "id": "TguXvp4pn9Pk",
        "outputId": "dbd65b32-d2f4-48d3-f106-1af5b32e7730"
      },
      "outputs": [
        {
          "output_type": "execute_result",
          "data": {
            "text/plain": [
              "[]"
            ]
          },
          "metadata": {},
          "execution_count": 1
        }
      ],
      "source": [
        "lis = []\n",
        "lis"
      ]
    },
    {
      "cell_type": "code",
      "source": [
        "lis = list()\n",
        "lis"
      ],
      "metadata": {
        "colab": {
          "base_uri": "https://localhost:8080/"
        },
        "id": "VCYKn8BJpOZZ",
        "outputId": "47b1171c-b974-4f60-9a3a-f00c3ff99d00"
      },
      "execution_count": 2,
      "outputs": [
        {
          "output_type": "execute_result",
          "data": {
            "text/plain": [
              "[]"
            ]
          },
          "metadata": {},
          "execution_count": 2
        }
      ]
    },
    {
      "cell_type": "code",
      "source": [
        "lis = [ 'elemneto1','elemento2']\n",
        "list\n"
      ],
      "metadata": {
        "colab": {
          "base_uri": "https://localhost:8080/"
        },
        "id": "rkXWnTg6pV_X",
        "outputId": "4bf97d87-bfda-42ca-bfa2-e0bd8ba73f09"
      },
      "execution_count": 3,
      "outputs": [
        {
          "output_type": "execute_result",
          "data": {
            "text/plain": [
              "list"
            ]
          },
          "metadata": {},
          "execution_count": 3
        }
      ]
    },
    {
      "cell_type": "code",
      "source": [],
      "metadata": {
        "id": "229rL75hp2Jc"
      },
      "execution_count": null,
      "outputs": []
    },
    {
      "cell_type": "code",
      "source": [
        "lista1 = [0,2,3,5]\n",
        "lista2 = ['a', 'b', 'c']\n",
        "lista3 = [lista1, lista2]\n",
        "lista3"
      ],
      "metadata": {
        "colab": {
          "base_uri": "https://localhost:8080/"
        },
        "id": "PYpcPK8bqBF9",
        "outputId": "7cbfea0d-9c77-435a-ad42-bd07fb4999b3"
      },
      "execution_count": 6,
      "outputs": [
        {
          "output_type": "execute_result",
          "data": {
            "text/plain": [
              "[[0, 2, 3, 5], ['a', 'b', 'c']]"
            ]
          },
          "metadata": {},
          "execution_count": 6
        }
      ]
    },
    {
      "cell_type": "code",
      "source": [],
      "metadata": {
        "id": "D9Nkw1Paq9uD"
      },
      "execution_count": null,
      "outputs": []
    },
    {
      "cell_type": "code",
      "source": [
        "lista8 = ['Iroman', ' Spiderman', 'chapulin', 'hulk']\n",
        "lista8[-3]"
      ],
      "metadata": {
        "colab": {
          "base_uri": "https://localhost:8080/",
          "height": 35
        },
        "id": "lO4t3jixsl8M",
        "outputId": "8846d1d2-a589-418d-967e-fdc937f65931"
      },
      "execution_count": 7,
      "outputs": [
        {
          "output_type": "execute_result",
          "data": {
            "text/plain": [
              "' Spiderman'"
            ],
            "application/vnd.google.colaboratory.intrinsic+json": {
              "type": "string"
            }
          },
          "metadata": {},
          "execution_count": 7
        }
      ]
    },
    {
      "cell_type": "code",
      "source": [
        "if 'Iroman' not in lista8:\n",
        "  print('no esta en la lista')\n",
        "else:\n",
        "    print('si esta')"
      ],
      "metadata": {
        "colab": {
          "base_uri": "https://localhost:8080/"
        },
        "id": "N1vpAy7ftGq3",
        "outputId": "5f0a245e-6278-4ea8-d970-4969aaa6286f"
      },
      "execution_count": 10,
      "outputs": [
        {
          "output_type": "stream",
          "name": "stdout",
          "text": [
            "si esta\n"
          ]
        }
      ]
    },
    {
      "cell_type": "code",
      "source": [
        "d = 10\n",
        "lista9 = [0,1,2,3,4,5,6]\n",
        "\n",
        "listaDesplazada = [3**x for x in lista9]\n",
        "listaDesplazada"
      ],
      "metadata": {
        "colab": {
          "base_uri": "https://localhost:8080/"
        },
        "id": "eYaz3dbeuInc",
        "outputId": "50c2bb60-64cf-4314-984f-bab4acbc9a4b"
      },
      "execution_count": 11,
      "outputs": [
        {
          "output_type": "execute_result",
          "data": {
            "text/plain": [
              "[1, 3, 9, 27, 81, 243, 729]"
            ]
          },
          "metadata": {},
          "execution_count": 11
        }
      ]
    },
    {
      "cell_type": "code",
      "source": [
        "listaNumeros = [0,1,2,3,4,5]\n",
        "listaNumeros.append(6)\n",
        "listaNumeros"
      ],
      "metadata": {
        "colab": {
          "base_uri": "https://localhost:8080/"
        },
        "id": "IC3ts_fivJQg",
        "outputId": "6412908d-ca52-40c7-95d0-a7da73890787"
      },
      "execution_count": 12,
      "outputs": [
        {
          "output_type": "execute_result",
          "data": {
            "text/plain": [
              "[0, 1, 2, 3, 4, 5, 6]"
            ]
          },
          "metadata": {},
          "execution_count": 12
        }
      ]
    },
    {
      "cell_type": "code",
      "source": [
        "listaNumeros.remove(3)\n",
        "listaNumeros"
      ],
      "metadata": {
        "colab": {
          "base_uri": "https://localhost:8080/"
        },
        "id": "uTJRIlLfwZWg",
        "outputId": "8a597983-51de-4679-8ce3-7bafcc5b32f9"
      },
      "execution_count": 13,
      "outputs": [
        {
          "output_type": "execute_result",
          "data": {
            "text/plain": [
              "[0, 1, 2, 4, 5, 6]"
            ]
          },
          "metadata": {},
          "execution_count": 13
        }
      ]
    },
    {
      "cell_type": "code",
      "source": [
        "listaNumeros.insert(0,-1)\n",
        "listaNumeros"
      ],
      "metadata": {
        "colab": {
          "base_uri": "https://localhost:8080/"
        },
        "id": "_VdZL3SAwh8K",
        "outputId": "604f3d0e-d6c3-4d0b-96fd-70be87d2b69f"
      },
      "execution_count": 15,
      "outputs": [
        {
          "output_type": "execute_result",
          "data": {
            "text/plain": [
              "[-1, 0, 1, 2, 4, 5, 6]"
            ]
          },
          "metadata": {},
          "execution_count": 15
        }
      ]
    },
    {
      "cell_type": "code",
      "source": [
        "listaNumeros[:4]"
      ],
      "metadata": {
        "colab": {
          "base_uri": "https://localhost:8080/"
        },
        "id": "DxA96L7zw3yK",
        "outputId": "3d927b10-720e-4710-f16a-dc144c90f6cd"
      },
      "execution_count": 16,
      "outputs": [
        {
          "output_type": "execute_result",
          "data": {
            "text/plain": [
              "[-1, 0, 1, 2]"
            ]
          },
          "metadata": {},
          "execution_count": 16
        }
      ]
    },
    {
      "cell_type": "code",
      "source": [
        "listaNumeros[::-1]"
      ],
      "metadata": {
        "colab": {
          "base_uri": "https://localhost:8080/"
        },
        "id": "jdMEvbM5xFQu",
        "outputId": "55643348-0f26-4cdd-83bc-f0a238fe602f"
      },
      "execution_count": 17,
      "outputs": [
        {
          "output_type": "execute_result",
          "data": {
            "text/plain": [
              "[6, 5, 4, 2, 1, 0, -1]"
            ]
          },
          "metadata": {},
          "execution_count": 17
        }
      ]
    },
    {
      "cell_type": "code",
      "source": [
        "listaNumerosInvertidos = listaNumeros[::-1]\n",
        "listaNumeros.reverse()\n",
        "print(listaNumeros)\n",
        "print(listaNumerosInvertidos)"
      ],
      "metadata": {
        "colab": {
          "base_uri": "https://localhost:8080/"
        },
        "id": "9iBXrmsmxNdl",
        "outputId": "73b29dba-167b-435e-c8be-e86d109362e4"
      },
      "execution_count": 18,
      "outputs": [
        {
          "output_type": "stream",
          "name": "stdout",
          "text": [
            "[6, 5, 4, 2, 1, 0, -1]\n",
            "[6, 5, 4, 2, 1, 0, -1]\n"
          ]
        }
      ]
    },
    {
      "cell_type": "code",
      "source": [
        "listaNumeros.index(2)"
      ],
      "metadata": {
        "colab": {
          "base_uri": "https://localhost:8080/"
        },
        "id": "AKBF3HugyAwg",
        "outputId": "4ee8cd8c-82c1-4b14-b98c-215e10691e66"
      },
      "execution_count": 19,
      "outputs": [
        {
          "output_type": "execute_result",
          "data": {
            "text/plain": [
              "3"
            ]
          },
          "metadata": {},
          "execution_count": 19
        }
      ]
    },
    {
      "cell_type": "code",
      "source": [
        "print(max(listaNumeros))\n",
        "print(min(listaNumeros))"
      ],
      "metadata": {
        "colab": {
          "base_uri": "https://localhost:8080/"
        },
        "id": "EuYqkPI6yMco",
        "outputId": "3e69eaaa-25fd-4e99-9fd5-82aac0468a3d"
      },
      "execution_count": 20,
      "outputs": [
        {
          "output_type": "stream",
          "name": "stdout",
          "text": [
            "6\n",
            "-1\n"
          ]
        }
      ]
    },
    {
      "cell_type": "code",
      "source": [
        "listaNumeros.sort(reverse = True)\n",
        "listaNumeros"
      ],
      "metadata": {
        "colab": {
          "base_uri": "https://localhost:8080/"
        },
        "id": "zPPuEOWAylZE",
        "outputId": "796ef70a-52b7-4bd2-ca7e-ac537c93fef7"
      },
      "execution_count": 21,
      "outputs": [
        {
          "output_type": "execute_result",
          "data": {
            "text/plain": [
              "[6, 5, 4, 2, 1, 0, -1]"
            ]
          },
          "metadata": {},
          "execution_count": 21
        }
      ]
    },
    {
      "cell_type": "code",
      "source": [
        "listaNumeros.pop(0)\n",
        "listaNumeros"
      ],
      "metadata": {
        "colab": {
          "base_uri": "https://localhost:8080/"
        },
        "id": "GtwealLWzKoV",
        "outputId": "b3ace371-90f5-4e8e-9df8-03a67432439d"
      },
      "execution_count": 24,
      "outputs": [
        {
          "output_type": "execute_result",
          "data": {
            "text/plain": [
              "[5, 2, 1, 0]"
            ]
          },
          "metadata": {},
          "execution_count": 24
        }
      ]
    },
    {
      "cell_type": "code",
      "source": [
        "listaNumerosCopy = listaNumeros\n",
        "listaNumerosCopy.append('A')\n",
        "listaNumeros"
      ],
      "metadata": {
        "colab": {
          "base_uri": "https://localhost:8080/"
        },
        "id": "zeWoya1vzvJ4",
        "outputId": "d57cdf8c-d938-4067-97e2-3c779035aa82"
      },
      "execution_count": 25,
      "outputs": [
        {
          "output_type": "execute_result",
          "data": {
            "text/plain": [
              "[5, 2, 1, 0, 'A']"
            ]
          },
          "metadata": {},
          "execution_count": 25
        }
      ]
    },
    {
      "cell_type": "code",
      "source": [
        "listaNumerosDeepCopy = listaNumeros.copy()\n",
        "listaNumerosDeepCopy.append('B')\n",
        "listaNumeros"
      ],
      "metadata": {
        "colab": {
          "base_uri": "https://localhost:8080/"
        },
        "id": "nOdKZwVi0Fci",
        "outputId": "0c2a2182-38a1-44c0-c4dd-0434bc5c7c50"
      },
      "execution_count": 27,
      "outputs": [
        {
          "output_type": "execute_result",
          "data": {
            "text/plain": [
              "[5, 2, 1, 0, 'A']"
            ]
          },
          "metadata": {},
          "execution_count": 27
        }
      ]
    },
    {
      "cell_type": "code",
      "source": [
        "listaNumerosDeepCopy"
      ],
      "metadata": {
        "colab": {
          "base_uri": "https://localhost:8080/"
        },
        "id": "Y78gCx2c1Fnr",
        "outputId": "18fc119e-05c4-4ff7-c66f-52cbea579b7d"
      },
      "execution_count": 28,
      "outputs": [
        {
          "output_type": "execute_result",
          "data": {
            "text/plain": [
              "[5, 2, 1, 0, 'A', 'B']"
            ]
          },
          "metadata": {},
          "execution_count": 28
        }
      ]
    },
    {
      "cell_type": "code",
      "source": [
        "print(listaNumerosCopy == listaNumeros)\n",
        "print(listaNumerosDeepCopy == listaNumeros)\n",
        "print(listaNumerosCopy is listaNumeros)\n",
        "print(listaNumerosDeepCopy is listaNumeros)"
      ],
      "metadata": {
        "colab": {
          "base_uri": "https://localhost:8080/"
        },
        "id": "j4wpRz3F1KLT",
        "outputId": "2c2557d5-4f94-45f1-b99e-b2810368a087"
      },
      "execution_count": 29,
      "outputs": [
        {
          "output_type": "stream",
          "name": "stdout",
          "text": [
            "True\n",
            "False\n",
            "True\n",
            "False\n"
          ]
        }
      ]
    }
  ]
}